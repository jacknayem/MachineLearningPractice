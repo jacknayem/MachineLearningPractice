{
 "cells": [
  {
   "cell_type": "code",
   "execution_count": null,
   "metadata": {},
   "outputs": [],
   "source": [
    "import random\n",
    "import nltk\n",
    "from nltk.corpus import movie_reviews"
   ]
  },
  {
   "cell_type": "code",
   "execution_count": null,
   "metadata": {
    "scrolled": true
   },
   "outputs": [],
   "source": [
    "#Build the list of document\n",
    "documents = [(list(movie_reviews.words(fileid)), category)\n",
    "             for category in movie_reviews.categories() \n",
    "             for fileid in movie_reviews.fileids(category)]\n",
    "\n",
    "#Shuffle Document\n",
    "random.shuffle(documents)\n",
    "\n",
    "print('Number of Document {}'.format(len(documents)))\n",
    "print('First Review {}'.format(documents[0]))\n",
    "\n",
    "all_word = []\n",
    "for w in movie_reviews.words():\n",
    "    all_word.append(w.lower())\n",
    "\n",
    "all_word = nltk.FreqDist(all_word)\n",
    "\n",
    "print('Most common word {}'.format(all_word.most_common(15)))\n",
    "print('The word Happy {}'.format(all_word['happy']))"
   ]
  },
  {
   "cell_type": "code",
   "execution_count": null,
   "metadata": {},
   "outputs": [],
   "source": [
    "print(len(all_word))"
   ]
  },
  {
   "cell_type": "code",
   "execution_count": null,
   "metadata": {},
   "outputs": [],
   "source": [
    "#We will use 4000 words as a common fatures\n",
    "words_features = list(all_word.keys())[:4000]\n",
    "#Build a find fature function that will determine 4000 words are contain in review\n",
    "def find_feature(documents):\n",
    "    words = set(documents)\n",
    "    feature = {}\n",
    "    \n",
    "    for w in words_features:\n",
    "        feature[w] = (w in words)\n",
    "    return feature\n",
    "\n",
    "#Let use an example for negative review \n",
    "features = find_feature(movie_reviews.words('neg/cv000_29416.txt'))\n",
    "for key,value in features.items():\n",
    "    if value == True:\n",
    "        print(key)"
   ]
  },
  {
   "cell_type": "code",
   "execution_count": null,
   "metadata": {},
   "outputs": [],
   "source": [
    "#now lets do it for all documents\n",
    "featuresets = [(find_feature(rev),category) for rev,category in documents]\n",
    "\n",
    "#split the data set between training set and testing set using sklearn\n",
    "from sklearn import model_selection\n",
    "\n",
    "#define a seed for reproducibility\n",
    "seed = 1\n",
    "\n",
    "#split the data training and testing dataset\n",
    "training, testing = model_selection.train_test_split(featuresets,test_size = 0.25, random_state = seed)\n",
    "\n",
    "print(training)\n",
    "print(testing)"
   ]
  },
  {
   "cell_type": "code",
   "execution_count": 31,
   "metadata": {},
   "outputs": [
    {
     "name": "stdout",
     "output_type": "stream",
     "text": [
      "SCV accuracy: 0.804\n"
     ]
    }
   ],
   "source": [
    "#Using sklearn algorithm in NLTK\n",
    "from nltk.classify.scikitlearn import SklearnClassifier\n",
    "from sklearn.svm import SVC\n",
    "\n",
    "model = SklearnClassifier(SVC(kernel = 'linear'))\n",
    "\n",
    "#train the model in training data\n",
    "model.train(training)\n",
    "\n",
    "#Test on the testing dataset\n",
    "accuracy = nltk.classify.accuracy(model, testing)\n",
    "print('SCV accuracy: {}'.format(accuracy))"
   ]
  },
  {
   "cell_type": "code",
   "execution_count": null,
   "metadata": {},
   "outputs": [],
   "source": []
  }
 ],
 "metadata": {
  "kernelspec": {
   "display_name": "Python 3",
   "language": "python",
   "name": "python3"
  },
  "language_info": {
   "codemirror_mode": {
    "name": "ipython",
    "version": 3
   },
   "file_extension": ".py",
   "mimetype": "text/x-python",
   "name": "python",
   "nbconvert_exporter": "python",
   "pygments_lexer": "ipython3",
   "version": "3.6.6"
  }
 },
 "nbformat": 4,
 "nbformat_minor": 4
}
