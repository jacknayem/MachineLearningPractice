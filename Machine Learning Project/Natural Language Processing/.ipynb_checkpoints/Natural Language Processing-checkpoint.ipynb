{
 "cells": [
  {
   "cell_type": "code",
   "execution_count": 10,
   "metadata": {},
   "outputs": [],
   "source": [
    "from nltk.tokenize import sent_tokenize, word_tokenize"
   ]
  },
  {
   "cell_type": "code",
   "execution_count": 3,
   "metadata": {},
   "outputs": [],
   "source": [
    "text = 'Hello student! How are you doning today? The olympics inspiring and python is awesome. You look great today'\n",
    "#print(sent_tokenize(text))\n",
    "words_token = word_tokenize(text)"
   ]
  },
  {
   "cell_type": "code",
   "execution_count": 4,
   "metadata": {},
   "outputs": [
    {
     "name": "stdout",
     "output_type": "stream",
     "text": [
      "['Hello', 'student', '!', 'How', 'doning', 'today', '?', 'The', 'olympics', 'inspiring', 'python', 'awesome', '.', 'You', 'look', 'great', 'today']\n"
     ]
    }
   ],
   "source": [
    "#Removing stop word-useless Data\n",
    "from nltk.corpus import stopwords\n",
    "stop_words = set(stopwords.words('english'))\n",
    "filtered_sentence = [w for w in words_token if not w in stop_words]\n",
    "print(filtered_sentence)"
   ]
  },
  {
   "cell_type": "code",
   "execution_count": 11,
   "metadata": {},
   "outputs": [
    {
     "name": "stdout",
     "output_type": "stream",
     "text": [
      "hello\n",
      "student\n",
      "!\n",
      "how\n",
      "done\n",
      "today\n",
      "?\n",
      "the\n",
      "olymp\n",
      "inspir\n",
      "python\n",
      "awesom\n",
      ".\n",
      "you\n",
      "look\n",
      "great\n",
      "today\n"
     ]
    }
   ],
   "source": [
    "#Steming an entier sentence\n",
    "from nltk.stem import PorterStemmer\n",
    "ps = PorterStemmer()\n",
    "for x in filtered_sentence:\n",
    "    print(ps.stem(x))"
   ]
  },
  {
   "cell_type": "code",
   "execution_count": null,
   "metadata": {},
   "outputs": [],
   "source": [
    "from nltk.corpus import udhr\n",
    "print(udhr.raw('English-Latin1'))"
   ]
  },
  {
   "cell_type": "code",
   "execution_count": null,
   "metadata": {},
   "outputs": [],
   "source": [
    "#Chunking with NLTK #nltk.help.upenn_tagset() To understand the meaning of Chunking words\n",
    "from nltk.corpus import state_union\n",
    "from nltk.tokenize import PunktSentenceTokenizer\n",
    "train_text = state_union.raw('2005-GWBush.txt')\n",
    "sample_text = state_union.raw('2006-GWBush.txt')\n",
    "#Now we have some text, we can train the PunktSentenceTokenizer\n",
    "Custom_set_tokenizer = PunktSentenceTokenizer(train_text)\n",
    "\n",
    "#Now tokenize the sample_text\n",
    "tokenized = Custom_set_tokenizer.tokenize(sample_text)\n",
    "\n",
    "def process_content():\n",
    "    try:\n",
    "        for t in tokenized[:5]:\n",
    "            words = nltk.word_tokenize(t)\n",
    "            tagged = nltk.pos_tag(words)\n",
    "            \n",
    "            #Combine the part of speech tag with regulat expression\n",
    "            chunkGram = r\"\"\"Chunk: {<RB.?>*<VB.?>*<NNP>+<NN>?}\"\"\"\n",
    "            chunkParser = nltk.RegexpParser(chunkGram)\n",
    "            chunked = chunkParser.parse(tagged)\n",
    "            #print the cchunk with nltk\n",
    "            for subtree in chunked.subtrees(filter = lambda t: t.label() == 'Chunk'):\n",
    "                print(subtree)\n",
    "            #Draw the chunk with nltk\n",
    "            #chunked.draw()\n",
    "    except Exception as e:\n",
    "        print(e)\n",
    "process_content()"
   ]
  },
  {
   "cell_type": "code",
   "execution_count": 27,
   "metadata": {},
   "outputs": [
    {
     "name": "stdout",
     "output_type": "stream",
     "text": [
      "Hello\n"
     ]
    }
   ],
   "source": []
  },
  {
   "cell_type": "code",
   "execution_count": null,
   "metadata": {},
   "outputs": [],
   "source": []
  },
  {
   "cell_type": "code",
   "execution_count": null,
   "metadata": {},
   "outputs": [],
   "source": []
  }
 ],
 "metadata": {
  "kernelspec": {
   "display_name": "Python 3",
   "language": "python",
   "name": "python3"
  },
  "language_info": {
   "codemirror_mode": {
    "name": "ipython",
    "version": 3
   },
   "file_extension": ".py",
   "mimetype": "text/x-python",
   "name": "python",
   "nbconvert_exporter": "python",
   "pygments_lexer": "ipython3",
   "version": "3.6.10"
  }
 },
 "nbformat": 4,
 "nbformat_minor": 4
}
