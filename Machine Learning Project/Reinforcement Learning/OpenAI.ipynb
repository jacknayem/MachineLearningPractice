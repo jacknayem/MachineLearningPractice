{
 "cells": [
  {
   "cell_type": "code",
   "execution_count": 1,
   "metadata": {},
   "outputs": [
    {
     "name": "stderr",
     "output_type": "stream",
     "text": [
      "Using TensorFlow backend.\n"
     ]
    },
    {
     "name": "stdout",
     "output_type": "stream",
     "text": [
      "Test\n"
     ]
    }
   ],
   "source": [
    "#import gym\n",
    "import keras\n",
    "import random\n",
    "import math\n",
    "import numpy as np\n",
    "from collections import deque"
   ]
  },
  {
   "cell_type": "code",
   "execution_count": 3,
   "metadata": {},
   "outputs": [],
   "source": [
    "#Traning Parameater\n",
    "\n",
    "n_episordes = 1000\n",
    "n_win_tricks = 195\n",
    "max_env_steps = None\n",
    "\n",
    "gama = 1.0 #Discount factor\n",
    "epsilon = 1.0 # Exploration\n",
    "epsilon_min = 0.01\n",
    "epsilon_decay = 0.995\n",
    "alpha = 0.01 #Treaning rate\n",
    "alpha_decay = 0.01\n",
    "\n",
    "batch_size = 64\n",
    "monitor = False\n",
    "quiet = False\n",
    "\n",
    "#Environment perameter\n",
    "memory = deque(maxlen=100000)\n",
    "env = gym.make('CartPole-v1')\n",
    "if max_env_steps is not None: env.max_episord_steps = max_env_steps"
   ]
  },
  {
   "cell_type": "code",
   "execution_count": 4,
   "metadata": {},
   "outputs": [],
   "source": [
    "#Bulding nural network\n",
    "from keras.models import Sequential\n",
    "from keras.layers import Dense\n",
    "from keras.optimizers import Adam\n",
    "\n",
    "#Model Defination\n",
    "model = Sequential()\n",
    "model.add(Dense(24, input_dim=4, activation='relu'))\n",
    "model.add(Dense(48,activation='relu'))\n",
    "model.add(Dense(2, activation='relu'))\n",
    "model.compile(loss='mse', optimizer= Adam(lr=alpha, decay=alpha_decay))"
   ]
  },
  {
   "cell_type": "code",
   "execution_count": 5,
   "metadata": {},
   "outputs": [],
   "source": [
    "#Define Necessary Function\n",
    "def remember(state, action, reward, next_state, done):\n",
    "    memory.append((state, action, reward, next_state, done))\n",
    "\n",
    "def choose_action(state, epsilon):\n",
    "    return env.action_space.sample() if(np.random.random() <= epsilon) else np.argmax(model.predict(state))\n",
    "\n",
    "def get_epsilon(t):\n",
    "     return max(epsilon_min, min(epsilon, 1.0 - math.log10((t+1)*epsilon_decay)))\n",
    "def preprocess_state(state):\n",
    "    return np.reshape(state, [1,4])\n",
    "def replay(batch_size, epsilon):\n",
    "    x_batch, y_batch = [], []\n",
    "    minibatch = random.sample(memory, min(len(memory), batch_size))\n",
    "    for state, action, reward, next_state, done in minibatch:\n",
    "        y_target = model.predict(state)\n",
    "        y_target[0][action] = reward if done else reward + gama * np.max(model.predict(next_state)[0])\n",
    "        x_batch.append(state[0])\n",
    "        y_batch.append(y_target[0])\n",
    "    model.fit(np.array(x_batch), np.array(y_batch), batch_size = len(x_batch), verbose = 0)\n",
    "    if(epsilon_min > epsilon):\n",
    "        epsilon*=epsilon_decay"
   ]
  },
  {
   "cell_type": "code",
   "execution_count": 6,
   "metadata": {},
   "outputs": [],
   "source": [
    "def run():\n",
    "    #scores = deque(maxlen = 100)\n",
    "    scores = deque(maxlen=100)\n",
    "    for e in range(n_episordes):\n",
    "        state = preprocess_state(env.reset())\n",
    "        done = False\n",
    "        i = 0\n",
    "        while not done:\n",
    "            action = choose_action(state, get_epsilon(e))\n",
    "            next_state, reward, done, _ = env.step(action)\n",
    "            env.render()\n",
    "            next_state = preprocess_state(next_state)\n",
    "            remember(state, action, reward, next_state, done)\n",
    "            state = next_state\n",
    "            i+=1\n",
    "        scores.append(i)\n",
    "        mean_score = np.mean(scores)\n",
    "        \n",
    "        if mean_score >= n_win_tricks and e >= 100:\n",
    "            if not quiet: print('Ran {} episodes. Solve after {} trails'.format(e,e-100))\n",
    "            return e-100\n",
    "        if e%100 == 0 and not quiet:\n",
    "            print('[Epsilon {}] - mean survival time over last 100 epesodes was {} ticks'.format(e,mean_score))\n",
    "        replay(batch_size, get_epsilon(e))\n",
    "        \n",
    "    if not quite: print('Did not solve after {} episodes'.format(e))\n",
    "    return e"
   ]
  },
  {
   "cell_type": "code",
   "execution_count": null,
   "metadata": {},
   "outputs": [
    {
     "name": "stdout",
     "output_type": "stream",
     "text": [
      "[Epsilon 0] - mean survival time over last 100 epesodes was 10.0 ticks\n"
     ]
    },
    {
     "name": "stderr",
     "output_type": "stream",
     "text": [
      "WARNING:tensorflow:From C:\\Users\\User\\Anaconda3\\lib\\site-packages\\keras\\backend\\tensorflow_backend.py:422: The name tf.global_variables is deprecated. Please use tf.compat.v1.global_variables instead.\n",
      "\n"
     ]
    },
    {
     "name": "stdout",
     "output_type": "stream",
     "text": [
      "[Epsilon 100] - mean survival time over last 100 epesodes was 14.16 ticks\n",
      "[Epsilon 200] - mean survival time over last 100 epesodes was 19.47 ticks\n"
     ]
    }
   ],
   "source": [
    "run()"
   ]
  },
  {
   "cell_type": "code",
   "execution_count": null,
   "metadata": {},
   "outputs": [],
   "source": []
  }
 ],
 "metadata": {
  "kernelspec": {
   "display_name": "Python 3",
   "language": "python",
   "name": "python3"
  },
  "language_info": {
   "codemirror_mode": {
    "name": "ipython",
    "version": 3
   },
   "file_extension": ".py",
   "mimetype": "text/x-python",
   "name": "python",
   "nbconvert_exporter": "python",
   "pygments_lexer": "ipython3",
   "version": "3.6.10"
  }
 },
 "nbformat": 4,
 "nbformat_minor": 4
}
