{
 "cells": [
  {
   "cell_type": "markdown",
   "metadata": {},
   "source": [
    "# import numpy module and define array"
   ]
  },
  {
   "cell_type": "code",
   "execution_count": 3,
   "metadata": {},
   "outputs": [],
   "source": [
    "#Import numpy Module\n",
    "import numpy\n",
    "\n",
    "#Define Array\n",
    "array = numpy.array([1,2,3])\n",
    "print(array)"
   ]
  },
  {
   "cell_type": "code",
   "execution_count": 5,
   "metadata": {},
   "outputs": [
    {
     "name": "stdout",
     "output_type": "stream",
     "text": [
      "[12 13 14]\n",
      "[1 4 6 7 8]\n"
     ]
    }
   ],
   "source": [
    "#Import numpy Module\n",
    "import numpy as np\n",
    "\n",
    "#Define Array\n",
    "array = np.array([12,13,14])\n",
    "print(array)\n",
    "List = [1,4,6,7,8]\n",
    "array2 = np.array(List)\n",
    "print(array2)"
   ]
  },
  {
   "cell_type": "code",
   "execution_count": 12,
   "metadata": {},
   "outputs": [
    {
     "name": "stdout",
     "output_type": "stream",
     "text": [
      "[[1 2 3]\n",
      " [4 5 6]]\n",
      "Matrix Shape is: 2 x 3, 2 row and 3 comulm\n"
     ]
    }
   ],
   "source": [
    "#Define Matrix\n",
    "List = [[1,2,3],[4,5,6]]\n",
    "matrix = np.array(List)\n",
    "print(matrix)\n",
    "\n",
    "#find row_Number * Column_Number\n",
    "x,y = matrix.shape\n",
    "print('Matrix Shape is: {0} x {1}, {0} row and {1} comulm'.format(x,y))"
   ]
  },
  {
   "cell_type": "code",
   "execution_count": 19,
   "metadata": {},
   "outputs": [
    {
     "name": "stdout",
     "output_type": "stream",
     "text": [
      "int32\n",
      "The Dimention of array is: 2 Dimention\n"
     ]
    }
   ],
   "source": [
    "#Find out the type of array\n",
    "print(matrix.dtype)\n",
    "#Check Dimention\n",
    "print('The Dimention of array is: {} Dimention'.format(matrix.ndim))"
   ]
  },
  {
   "cell_type": "code",
   "execution_count": 45,
   "metadata": {},
   "outputs": [
    {
     "name": "stdout",
     "output_type": "stream",
     "text": [
      "[ 0  1  2  3  4  5  6  7  8  9 10 11 12 13 14 15 16 17 18 19 20]\n",
      "[11 12 13 14 15 16 17 18 19 20]\n",
      "[ 0  2  4  6  8 10 12 14 16 18 20]\n"
     ]
    }
   ],
   "source": [
    "#define array in numpy array\n",
    "print(np.arange(21))\n",
    "print(np.arange(11,21))\n",
    "print(np.arange(0,21,2))"
   ]
  },
  {
   "cell_type": "code",
   "execution_count": 23,
   "metadata": {},
   "outputs": [
    {
     "name": "stdout",
     "output_type": "stream",
     "text": [
      "range(0, 10000)\n",
      "[   0    1    2 ... 9997 9998 9999]\n"
     ]
    }
   ],
   "source": [
    "#Define a array of number and normal array\n",
    "normalArray = range(10000)\n",
    "numpyArray = np.arange(10000)\n",
    "print(normalArray)\n",
    "print(numpyArray)"
   ]
  },
  {
   "cell_type": "code",
   "execution_count": 25,
   "metadata": {},
   "outputs": [
    {
     "name": "stdout",
     "output_type": "stream",
     "text": [
      "17 ms ± 548 µs per loop (mean ± std. dev. of 7 runs, 100 loops each)\n",
      "93.6 µs ± 1.46 µs per loop (mean ± std. dev. of 7 runs, 10000 loops each)\n"
     ]
    }
   ],
   "source": [
    "#Time comparison between  normal loop and numpy loop\n",
    "%timeit [i**3 for i in normalArray]\n",
    "%timeit numpyArray**3"
   ]
  },
  {
   "cell_type": "code",
   "execution_count": 40,
   "metadata": {},
   "outputs": [
    {
     "name": "stdout",
     "output_type": "stream",
     "text": [
      "6.74 ms ± 963 µs per loop (mean ± std. dev. of 7 runs, 100 loops each)\n",
      "30.2 µs ± 840 ns per loop (mean ± std. dev. of 7 runs, 10000 loops each)\n"
     ]
    }
   ],
   "source": [
    "l1 = range(10000)\n",
    "l2 = [i**2 for i in l1]\n",
    "#normal\n",
    "%timeit list(map(lambda x,y: x+y,l1,l2))\n",
    "#using numpy\n",
    "arr1 = np.array(l1)\n",
    "arr2 = np.array(l2)\n",
    "%timeit arr1 + arr2"
   ]
  },
  {
   "cell_type": "markdown",
   "metadata": {},
   "source": [
    "# Define Matrix"
   ]
  },
  {
   "cell_type": "code",
   "execution_count": 63,
   "metadata": {},
   "outputs": [
    {
     "name": "stdout",
     "output_type": "stream",
     "text": [
      "[[0. 0. 0. 0.]\n",
      " [0. 0. 0. 0.]\n",
      " [0. 0. 0. 0.]]\n"
     ]
    }
   ],
   "source": [
    "#Define zeros matrix\n",
    "zero = np.zeros((3,4))\n",
    "print(zero)"
   ]
  },
  {
   "cell_type": "code",
   "execution_count": 64,
   "metadata": {},
   "outputs": [
    {
     "name": "stdout",
     "output_type": "stream",
     "text": [
      "[[1. 1. 1. 1.]\n",
      " [1. 1. 1. 1.]\n",
      " [1. 1. 1. 1.]]\n"
     ]
    }
   ],
   "source": [
    "#Define One Mateix\n",
    "one = np.ones((3,4))\n",
    "print(one)"
   ]
  },
  {
   "cell_type": "code",
   "execution_count": 65,
   "metadata": {},
   "outputs": [
    {
     "name": "stdout",
     "output_type": "stream",
     "text": [
      "[[1. 0. 0.]\n",
      " [0. 1. 0.]\n",
      " [0. 0. 1.]]\n"
     ]
    }
   ],
   "source": [
    "#Define identity matrix\n",
    "identity = np.eye(3)\n",
    "print(identity)"
   ]
  },
  {
   "cell_type": "code",
   "execution_count": 66,
   "metadata": {},
   "outputs": [
    {
     "name": "stdout",
     "output_type": "stream",
     "text": [
      "[[2.2 2.2 2.2 2.2]\n",
      " [2.2 2.2 2.2 2.2]\n",
      " [2.2 2.2 2.2 2.2]]\n"
     ]
    }
   ],
   "source": [
    "#Define custom matrix\n",
    "custom = np.full((3,4),2.2)\n",
    "print(custom)"
   ]
  },
  {
   "cell_type": "code",
   "execution_count": 70,
   "metadata": {},
   "outputs": [
    {
     "data": {
      "text/plain": [
       "array([[1, 2, 4, 1, 2, 4],\n",
       "       [1, 2, 4, 1, 2, 4],\n",
       "       [1, 2, 4, 1, 2, 4]])"
      ]
     },
     "execution_count": 70,
     "metadata": {},
     "output_type": "execute_result"
    }
   ],
   "source": [
    "#Define tile matrix\n",
    "v = np.array([1,2,4])\n",
    "np.tile(v,(3,2))"
   ]
  },
  {
   "cell_type": "code",
   "execution_count": 81,
   "metadata": {},
   "outputs": [
    {
     "name": "stdout",
     "output_type": "stream",
     "text": [
      "0.7741019720762491 \n",
      "\n",
      "[[28.68760674 18.63629342  4.56567266 41.43425186]\n",
      " [ 0.9751311  39.61101987 34.31414759  1.95740699]\n",
      " [42.39969669 13.33441526 30.53509591 31.72754203]]\n"
     ]
    }
   ],
   "source": [
    "#Define Random matrix\n",
    "value = np.random.random() #Generate a value between 0-1 number\n",
    "print(value,'\\n')\n",
    "matrix = 50*np.random.random([3,4])\n",
    "print(matrix)"
   ]
  },
  {
   "cell_type": "code",
   "execution_count": 83,
   "metadata": {},
   "outputs": [
    {
     "data": {
      "text/plain": [
       "array([ 1.        ,  3.57894737,  6.15789474,  8.73684211, 11.31578947,\n",
       "       13.89473684, 16.47368421, 19.05263158, 21.63157895, 24.21052632,\n",
       "       26.78947368, 29.36842105, 31.94736842, 34.52631579, 37.10526316,\n",
       "       39.68421053, 42.26315789, 44.84210526, 47.42105263, 50.        ])"
      ]
     },
     "execution_count": 83,
     "metadata": {},
     "output_type": "execute_result"
    }
   ],
   "source": [
    "#Create a array, which are equale distance between near two value\n",
    "np.linspace(1,50,20)"
   ]
  },
  {
   "cell_type": "code",
   "execution_count": 86,
   "metadata": {},
   "outputs": [
    {
     "name": "stdout",
     "output_type": "stream",
     "text": [
      "[[[ 0  1  2]\n",
      "  [ 3  4  5]]\n",
      "\n",
      " [[ 6  7  8]\n",
      "  [ 9 10 11]]\n",
      "\n",
      " [[12 13 14]\n",
      "  [15 16 17]]]\n"
     ]
    },
    {
     "data": {
      "text/plain": [
       "(3, 2, 3)"
      ]
     },
     "execution_count": 86,
     "metadata": {},
     "output_type": "execute_result"
    }
   ],
   "source": [
    "#Reshape any array\n",
    "dimention = np.arange(18).reshape(3,2,3)\n",
    "print(dimention)\n",
    "dimention.shape"
   ]
  },
  {
   "cell_type": "code",
   "execution_count": 95,
   "metadata": {},
   "outputs": [
    {
     "name": "stdout",
     "output_type": "stream",
     "text": [
      "15\n",
      "[15 87 67]\n"
     ]
    }
   ],
   "source": [
    "#indexing multiple array\n",
    "arr = np.array([15,45,98,34,12,87,67])\n",
    "print(arr[0])\n",
    "print(arr[[0,5,6]])"
   ]
  },
  {
   "cell_type": "code",
   "execution_count": 98,
   "metadata": {},
   "outputs": [
    {
     "name": "stdout",
     "output_type": "stream",
     "text": [
      "358\n",
      "45.0\n",
      "31.40258666064934\n"
     ]
    }
   ],
   "source": [
    "#find sum and median\n",
    "print(np.sum(arr))\n",
    "print(np.median(arr))\n",
    "print(np.std(arr))"
   ]
  },
  {
   "cell_type": "code",
   "execution_count": 105,
   "metadata": {},
   "outputs": [
    {
     "data": {
      "text/plain": [
       "array([[14, 32],\n",
       "       [32, 77]])"
      ]
     },
     "execution_count": 105,
     "metadata": {},
     "output_type": "execute_result"
    }
   ],
   "source": [
    "#doc product between two matrix\n",
    "mat = np.arange(1,7).reshape(2,3)\n",
    "mat2 = mat.T #transposing\n",
    "dotPro = mat.dot(mat2)\n",
    "dotPro"
   ]
  },
  {
   "cell_type": "code",
   "execution_count": 110,
   "metadata": {},
   "outputs": [
    {
     "name": "stdout",
     "output_type": "stream",
     "text": [
      "[False  True False False False]\n",
      "[ True  True  True  True False]\n"
     ]
    }
   ],
   "source": [
    "#Logical AND & OR\n",
    "arr1 = np.array([1,1,1,1,0], dtype = bool)\n",
    "arr2 = np.array([0,1,0,0,0], dtype = bool)\n",
    "print(np.logical_and(arr1,arr2))\n",
    "print(np.logical_or(arr1,arr2))"
   ]
  },
  {
   "cell_type": "code",
   "execution_count": 118,
   "metadata": {},
   "outputs": [
    {
     "name": "stdout",
     "output_type": "stream",
     "text": [
      "34\n",
      "Column wise: [10 10 14]\n",
      "Row wise [14 20]\n",
      "Max value: 9\n"
     ]
    }
   ],
   "source": [
    "#sum row or coulm\n",
    "arr = np.array([[1,6,7],[9,4,7]])\n",
    "print(arr.sum())\n",
    "print('Column wise:',arr.sum(axis=0)) #Column wise\n",
    "print('Row wise',arr.sum(axis=1)) #Row wise\n",
    "#find max value\n",
    "print('Max value:',arr.max())"
   ]
  },
  {
   "cell_type": "code",
   "execution_count": null,
   "metadata": {},
   "outputs": [],
   "source": []
  }
 ],
 "metadata": {
  "kernelspec": {
   "display_name": "Python 3",
   "language": "python",
   "name": "python3"
  },
  "language_info": {
   "codemirror_mode": {
    "name": "ipython",
    "version": 3
   },
   "file_extension": ".py",
   "mimetype": "text/x-python",
   "name": "python",
   "nbconvert_exporter": "python",
   "pygments_lexer": "ipython3",
   "version": "3.6.10"
  }
 },
 "nbformat": 4,
 "nbformat_minor": 4
}
