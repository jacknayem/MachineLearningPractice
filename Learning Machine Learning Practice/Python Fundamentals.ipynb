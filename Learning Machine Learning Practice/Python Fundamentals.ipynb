{
 "cells": [
  {
   "cell_type": "markdown",
   "metadata": {},
   "source": [
    "# Print"
   ]
  },
  {
   "cell_type": "code",
   "execution_count": 3,
   "metadata": {},
   "outputs": [
    {
     "name": "stdout",
     "output_type": "stream",
     "text": [
      "Welcome to the python world\n",
      "This line learn to you, how to make a new line.\n",
      "A new line make with slash with n\n"
     ]
    }
   ],
   "source": [
    "#print a string\n",
    "print(\"Welcome to the python world\")\n",
    "#new line\n",
    "print(\"This line learn to you, how to make a new line.\\nA new line make with slash with n\")"
   ]
  },
  {
   "cell_type": "markdown",
   "metadata": {},
   "source": [
    "# Variable\n",
    "#-- A variable must start with letter or underscore\n",
    "#-- A variable does not start with number\n",
    "#-- Variable can only hold alpa-numaric letter and underscore"
   ]
  },
  {
   "cell_type": "code",
   "execution_count": 4,
   "metadata": {},
   "outputs": [],
   "source": [
    "#Assign Variable \n",
    "x = 55\n",
    "y = 'string'\n",
    "z= 55.43"
   ]
  },
  {
   "cell_type": "code",
   "execution_count": 8,
   "metadata": {},
   "outputs": [
    {
     "data": {
      "text/plain": [
       "55"
      ]
     },
     "execution_count": 8,
     "metadata": {},
     "output_type": "execute_result"
    }
   ],
   "source": [
    "#print x\n",
    "x"
   ]
  },
  {
   "cell_type": "code",
   "execution_count": 10,
   "metadata": {},
   "outputs": [],
   "source": [
    "#Case Sensitive\n",
    "#It show an error, Because of we don't define any X (Capitale Letter) NameError: name 'X' is not defined\n",
    "X"
   ]
  },
  {
   "cell_type": "code",
   "execution_count": 12,
   "metadata": {},
   "outputs": [],
   "source": [
    "#Useing Key word will throw an error SyntaxError: invalid syntax\n",
    "try = 1"
   ]
  },
  {
   "cell_type": "code",
   "execution_count": 15,
   "metadata": {},
   "outputs": [
    {
     "name": "stdout",
     "output_type": "stream",
     "text": [
      "['False', 'None', 'True', 'and', 'as', 'assert', 'break', 'class', 'continue', 'def', 'del', 'elif', 'else', 'except', 'finally', 'for', 'from', 'global', 'if', 'import', 'in', 'is', 'lambda', 'nonlocal', 'not', 'or', 'pass', 'raise', 'return', 'try', 'while', 'with', 'yield']\n",
      "Number of Keyword:  33\n"
     ]
    }
   ],
   "source": [
    "#If you want to know more keywords. Keywors module will help you to know abour keywors\n",
    "import keyword\n",
    "print(keyword.kwlist)\n",
    "print('Number of Keyword: ',len(keyword.kwlist))"
   ]
  },
  {
   "cell_type": "code",
   "execution_count": 17,
   "metadata": {},
   "outputs": [],
   "source": [
    "#You can't use any special charecter. The error will be accur, SyntaxError: invalid syntax\n",
    "2@ = 35"
   ]
  },
  {
   "cell_type": "code",
   "execution_count": 18,
   "metadata": {},
   "outputs": [
    {
     "data": {
      "text/plain": [
       "int"
      ]
     },
     "execution_count": 18,
     "metadata": {},
     "output_type": "execute_result"
    }
   ],
   "source": [
    "#you can check type with type() function\n",
    "type(x)"
   ]
  },
  {
   "cell_type": "code",
   "execution_count": 21,
   "metadata": {},
   "outputs": [
    {
     "name": "stdout",
     "output_type": "stream",
     "text": [
      "3 3 3\n",
      "7 9 5\n"
     ]
    }
   ],
   "source": [
    "#some assign technique in python\n",
    "a = b = c = 3\n",
    "d,e,f = 7,9,5\n",
    "print(a,b,c)\n",
    "print(d,e,f)"
   ]
  },
  {
   "cell_type": "markdown",
   "metadata": {},
   "source": [
    "# Numeric Operations"
   ]
  },
  {
   "cell_type": "code",
   "execution_count": 26,
   "metadata": {},
   "outputs": [
    {
     "name": "stdout",
     "output_type": "stream",
     "text": [
      "27\n",
      "13\n",
      "140\n",
      "2.857142857142857\n",
      "2\n",
      "6\n",
      "1280000000\n"
     ]
    }
   ],
   "source": [
    "#Assign variable\n",
    "a = 20\n",
    "b = 7\n",
    "print(a + b) #Addition\n",
    "print(a - b) #Subtraction\n",
    "print(a * b) #multiplication\n",
    "print(a / b) #division\n",
    "print(a // b)#floor or ceiling\n",
    "print(a % b) #Reaminder\n",
    "print(a**b)  #a to Power b"
   ]
  },
  {
   "cell_type": "code",
   "execution_count": 27,
   "metadata": {},
   "outputs": [
    {
     "name": "stdout",
     "output_type": "stream",
     "text": [
      "23 5\n"
     ]
    }
   ],
   "source": [
    "#Difference technique to add and subtract\n",
    "a += 3\n",
    "b -= 2\n",
    "print(a,b)"
   ]
  },
  {
   "cell_type": "code",
   "execution_count": 28,
   "metadata": {},
   "outputs": [],
   "source": [
    "import math\n",
    "#this module contain lots of function to handle the mathematics operatio"
   ]
  },
  {
   "cell_type": "markdown",
   "metadata": {},
   "source": [
    "# Logical operations"
   ]
  },
  {
   "cell_type": "code",
   "execution_count": 30,
   "metadata": {},
   "outputs": [
    {
     "name": "stdout",
     "output_type": "stream",
     "text": [
      "True\n",
      "False\n",
      "False\n",
      "True\n"
     ]
    }
   ],
   "source": [
    "a = 12\n",
    "b = 22\n",
    "print(a < b)\n",
    "print(a > b)\n",
    "print(a==b)\n",
    "print(a!=b)"
   ]
  },
  {
   "cell_type": "markdown",
   "metadata": {},
   "source": [
    "# if elif else conditon"
   ]
  },
  {
   "cell_type": "code",
   "execution_count": 32,
   "metadata": {},
   "outputs": [
    {
     "name": "stdout",
     "output_type": "stream",
     "text": [
      "Enter any code34\n",
      "34 is less than 40\n"
     ]
    }
   ],
   "source": [
    "#Take input\n",
    "a = int(input('Enter any code'))\n",
    "if(a < 40):\n",
    "    print('{} is less than 40'.format(a))"
   ]
  },
  {
   "cell_type": "code",
   "execution_count": 34,
   "metadata": {},
   "outputs": [
    {
     "name": "stdout",
     "output_type": "stream",
     "text": [
      "Enter any code20\n",
      "20 is less than 30 \n"
     ]
    }
   ],
   "source": [
    "a = int(input('Enter any code '))\n",
    "if(a < 30):\n",
    "    print('{} is less than 30'.format(a))\n",
    "else:\n",
    "    print('{} is greater than 30'.format(a))"
   ]
  },
  {
   "cell_type": "code",
   "execution_count": 35,
   "metadata": {},
   "outputs": [
    {
     "name": "stdout",
     "output_type": "stream",
     "text": [
      "Enter any code 30\n",
      "30 is equel to 30\n"
     ]
    }
   ],
   "source": [
    "a = int(input('Enter any code '))\n",
    "if(a < 30):\n",
    "    print('{} is less than 30'.format(a))\n",
    "elif(a == 30):\n",
    "    print('{} is equel to 30'.format(a))\n",
    "else:\n",
    "    print('{} is greater than 30'.format(a))"
   ]
  },
  {
   "cell_type": "markdown",
   "metadata": {},
   "source": [
    "# Loop"
   ]
  },
  {
   "cell_type": "code",
   "execution_count": 36,
   "metadata": {},
   "outputs": [
    {
     "name": "stdout",
     "output_type": "stream",
     "text": [
      "0\n",
      "1\n",
      "2\n",
      "3\n",
      "4\n"
     ]
    }
   ],
   "source": [
    "for x in range(5):\n",
    "    print(x)"
   ]
  },
  {
   "cell_type": "code",
   "execution_count": 39,
   "metadata": {},
   "outputs": [
    {
     "name": "stdout",
     "output_type": "stream",
     "text": [
      "10\n",
      "11\n",
      "12\n",
      "13\n",
      "14\n"
     ]
    }
   ],
   "source": [
    "for x in range(10,15):\n",
    "    print(x)"
   ]
  },
  {
   "cell_type": "code",
   "execution_count": 40,
   "metadata": {},
   "outputs": [
    {
     "name": "stdout",
     "output_type": "stream",
     "text": [
      "0\n",
      "2\n",
      "4\n",
      "6\n",
      "8\n"
     ]
    }
   ],
   "source": [
    "for x in range(0,10,2):\n",
    "    print(x)"
   ]
  },
  {
   "cell_type": "code",
   "execution_count": 41,
   "metadata": {},
   "outputs": [
    {
     "name": "stdout",
     "output_type": "stream",
     "text": [
      "0 H\n",
      "1 e\n",
      "2 l\n",
      "3 l\n",
      "4 o\n",
      "5  \n",
      "6 t\n",
      "7 h\n",
      "8 i\n",
      "9 s\n",
      "10  \n",
      "11 w\n",
      "12 o\n",
      "13 r\n",
      "14 l\n",
      "15 d\n",
      "16  \n",
      "17 o\n",
      "18 f\n",
      "19  \n",
      "20 p\n",
      "21 y\n",
      "22 t\n",
      "23 h\n",
      "24 o\n",
      "25 n\n"
     ]
    }
   ],
   "source": [
    "message = \"Hello this world of python\"\n",
    "for n,alphabet in enumerate(message):\n",
    "    print(n,alphabet)"
   ]
  },
  {
   "cell_type": "code",
   "execution_count": 45,
   "metadata": {},
   "outputs": [
    {
     "name": "stdout",
     "output_type": "stream",
     "text": [
      "0 is Even\n",
      "1 is Odd\n",
      "2 is Even\n",
      "3 is Odd\n",
      "4 is Even\n",
      "5 is Odd\n",
      "6 is Even\n",
      "7 is Odd\n",
      "8 is Even\n",
      "9 is Odd\n"
     ]
    }
   ],
   "source": [
    "i = 0\n",
    "while i < 10:\n",
    "    if(i%2 == 0):\n",
    "        print('{} is Even'.format(i))\n",
    "    else:\n",
    "        print('{} is Odd'.format(i))\n",
    "    i+=1"
   ]
  },
  {
   "cell_type": "markdown",
   "metadata": {},
   "source": [
    "# Create Function"
   ]
  },
  {
   "cell_type": "code",
   "execution_count": 47,
   "metadata": {},
   "outputs": [
    {
     "name": "stdout",
     "output_type": "stream",
     "text": [
      "Say hello to python\n"
     ]
    }
   ],
   "source": [
    "#Create\n",
    "def hello():\n",
    "    print('Say hello to python')\n",
    "#call def or define function\n",
    "hello()"
   ]
  },
  {
   "cell_type": "code",
   "execution_count": 48,
   "metadata": {},
   "outputs": [
    {
     "name": "stdout",
     "output_type": "stream",
     "text": [
      "12\n",
      "True\n"
     ]
    }
   ],
   "source": [
    "#Create a function\n",
    "def checkEven(a):\n",
    "    if a%2 == 0:\n",
    "        print('Even')\n",
    "    else:\n",
    "        print('Not Even')\n",
    "#Call the function\n",
    "checkEven(int(input('Check Even')))"
   ]
  },
  {
   "cell_type": "code",
   "execution_count": 50,
   "metadata": {},
   "outputs": [
    {
     "name": "stdout",
     "output_type": "stream",
     "text": [
      "The result is 5\n"
     ]
    }
   ],
   "source": [
    "def subtraction(x,y):\n",
    "    z = x - y\n",
    "    return z\n",
    "result = subtraction(10,5)\n",
    "print(\"The result is {}\".format(result))"
   ]
  },
  {
   "cell_type": "code",
   "execution_count": 52,
   "metadata": {},
   "outputs": [
    {
     "name": "stdout",
     "output_type": "stream",
     "text": [
      "Say hello to python\n",
      "Check Even: 36\n",
      "True\n",
      "The result is 5\n"
     ]
    }
   ],
   "source": [
    "hello()\n",
    "Number = checkEven(int(input('Check Even: ')))\n",
    "print(\"The result is {}\".format(subtraction(10,5)))"
   ]
  },
  {
   "cell_type": "code",
   "execution_count": 53,
   "metadata": {},
   "outputs": [
    {
     "name": "stdout",
     "output_type": "stream",
     "text": [
      "['Abu', 'Nayem']\n"
     ]
    }
   ],
   "source": [
    "Name = 'Abu Nayem'\n",
    "split_Name = lambda x: x.split()\n",
    "print(split_Name(Name))"
   ]
  },
  {
   "cell_type": "code",
   "execution_count": 59,
   "metadata": {},
   "outputs": [
    {
     "name": "stdout",
     "output_type": "stream",
     "text": [
      "a + b: 10\n",
      "b - c: 0\n"
     ]
    }
   ],
   "source": [
    "a = b = c = 5\n",
    "addition = lambda x,y: x+y\n",
    "print('a + b: {}'.format(addition(a,b)))\n",
    "subtraction = lambda y,z: y-z\n",
    "print('b - c: {}'.format(subtraction(b,c)))"
   ]
  },
  {
   "cell_type": "markdown",
   "metadata": {},
   "source": [
    "# String"
   ]
  },
  {
   "cell_type": "code",
   "execution_count": 90,
   "metadata": {},
   "outputs": [
    {
     "name": "stdout",
     "output_type": "stream",
     "text": [
      "This is python world\n",
      "THIS IS PYTHON WORLS\n"
     ]
    }
   ],
   "source": [
    "small = \"THIS IS PYTHON WORLD\"\n",
    "upper = \"this is python worls\"\n",
    "print(small.lower().capitalize())\n",
    "print(upper.upper())"
   ]
  },
  {
   "cell_type": "code",
   "execution_count": 69,
   "metadata": {},
   "outputs": [
    {
     "name": "stdout",
     "output_type": "stream",
     "text": [
      "  There is space in the sentence      \n",
      "  There is space in the sentence\n",
      "There is space in the sentence      \n",
      "There is space in the sentence\n"
     ]
    }
   ],
   "source": [
    "formating_sentence = '  There is space in the sentence      '\n",
    "print(formating_sentence)\n",
    "print(formating_sentence.rstrip())\n",
    "print(formating_sentence.lstrip())\n",
    "print(formating_sentence.rstrip().lstrip())\n",
    "#To check the differece between sentence select the both line with cursor"
   ]
  },
  {
   "cell_type": "code",
   "execution_count": 76,
   "metadata": {},
   "outputs": [
    {
     "name": "stdout",
     "output_type": "stream",
     "text": [
      "o\n",
      "you like to play with code\n",
      "you\n",
      "Do you like\n"
     ]
    }
   ],
   "source": [
    "sentence = 'Do you like to play with code'\n",
    "print(sentence[1])\n",
    "print(sentence[3:])\n",
    "print(sentence[3:6])\n",
    "print(sentence[:11])"
   ]
  },
  {
   "cell_type": "code",
   "execution_count": 88,
   "metadata": {},
   "outputs": [
    {
     "name": "stdout",
     "output_type": "stream",
     "text": [
      "01234567898765432\n",
      "898765432\n",
      "0246886420\n",
      "135797531\n"
     ]
    }
   ],
   "source": [
    "number = '0123456789876543210'\n",
    "print(number[:-2])\n",
    "print(number[8:-2])\n",
    "print(number[0::2]) #Even Number\n",
    "print(number[1::2]) #Odd Number"
   ]
  },
  {
   "cell_type": "code",
   "execution_count": 94,
   "metadata": {},
   "outputs": [
    {
     "name": "stdout",
     "output_type": "stream",
     "text": [
      "I am 6.5 feets\n"
     ]
    }
   ],
   "source": [
    "height = 6.5\n",
    "sentence = 'My height is '+ str(height) +' feets'\n",
    "print(sentence)"
   ]
  },
  {
   "cell_type": "code",
   "execution_count": 95,
   "metadata": {},
   "outputs": [
    {
     "name": "stdout",
     "output_type": "stream",
     "text": [
      "I am 23 years old\n"
     ]
    }
   ],
   "source": [
    "age = 23\n",
    "sentence = 'I am {} years old'.format(age)\n",
    "print(sentence)"
   ]
  },
  {
   "cell_type": "code",
   "execution_count": 97,
   "metadata": {},
   "outputs": [
    {
     "name": "stdout",
     "output_type": "stream",
     "text": [
      "12 * 45 + 6 make 546\n"
     ]
    }
   ],
   "source": [
    "a = 12\n",
    "b = 45\n",
    "c = 6\n",
    "result = a * b + c\n",
    "sentence = '{} * {} + {} make {}'.format(a,b,c,result)\n",
    "print(sentence)"
   ]
  },
  {
   "cell_type": "code",
   "execution_count": 100,
   "metadata": {},
   "outputs": [
    {
     "name": "stdout",
     "output_type": "stream",
     "text": [
      "12 and 45 equele to 546\n"
     ]
    }
   ],
   "source": [
    "sentence = '{1} and {2} equele to {0}'.format(result,a,b)\n",
    "print(sentence)"
   ]
  },
  {
   "cell_type": "markdown",
   "metadata": {},
   "source": [
    "# List"
   ]
  },
  {
   "cell_type": "code",
   "execution_count": 101,
   "metadata": {},
   "outputs": [
    {
     "data": {
      "text/plain": [
       "list"
      ]
     },
     "execution_count": 101,
     "metadata": {},
     "output_type": "execute_result"
    }
   ],
   "source": [
    "#Defien List\n",
    "a = []\n",
    "type(a)"
   ]
  },
  {
   "cell_type": "code",
   "execution_count": 102,
   "metadata": {},
   "outputs": [
    {
     "name": "stdout",
     "output_type": "stream",
     "text": [
      "[1, 2, 3, 4, 5]\n"
     ]
    }
   ],
   "source": [
    "a = [1,2,3,4,5]\n",
    "print(a)"
   ]
  },
  {
   "cell_type": "code",
   "execution_count": 112,
   "metadata": {},
   "outputs": [
    {
     "name": "stdout",
     "output_type": "stream",
     "text": [
      "1\n",
      "[2, 3, 4, 5]\n",
      "[2, 3]\n",
      "[1, 3]\n"
     ]
    }
   ],
   "source": [
    "print(a[0])\n",
    "print(a[1:])\n",
    "print(a[1:3])\n",
    "print(a[0:3:2])"
   ]
  },
  {
   "cell_type": "code",
   "execution_count": 117,
   "metadata": {},
   "outputs": [
    {
     "name": "stdout",
     "output_type": "stream",
     "text": [
      "Before: ['Python', 'Numpy', 23, 'ML', 3.675]\n",
      "After: ['Python', 'Numpy', 23, 'ML', 3.675, '26']\n",
      "After Pop: ['Python', 'Numpy', 23, 'ML', 3.675]\n",
      "After pop with index ['Python', 23, 'ML', 3.675]\n"
     ]
    }
   ],
   "source": [
    "b = ['Python', \"Numpy\", 23,'ML',3.675]\n",
    "print('Before: {}'.format(b))\n",
    "\n",
    "b.append('26')\n",
    "print('After: {}'.format(b))\n",
    "\n",
    "b.pop()\n",
    "print('After Pop: {}'.format(b))\n",
    "\n",
    "b.pop(1)\n",
    "print('After pop with index {}'. format(b))"
   ]
  },
  {
   "cell_type": "code",
   "execution_count": 127,
   "metadata": {},
   "outputs": [
    {
     "name": "stdout",
     "output_type": "stream",
     "text": [
      "['Python', 23, 'ML', 3.675, 'Numpy', 'Numpy', 'Pandas', 'Pandas', 67.5, 'Pandas', 67.5, 'Pandas', 67.5, 'sklearn']\n",
      "233659390024 233659390024\n",
      "['Python', 23, 'ML', 3.675, 'Numpy', 'Numpy', 'Pandas', 'Pandas', 67.5, 'Pandas', 67.5, 'Pandas', 67.5, 'sklearn', 'Pandas']\n",
      "After: ['Python', 23, 'ML', 3.675, 'Numpy', 'Numpy', 'Pandas', 'Pandas', 67.5, 'Pandas', 67.5, 'Pandas', 67.5, 'sklearn', 'Pandas']\n",
      "233659389384 233659390024\n"
     ]
    }
   ],
   "source": [
    "#Assign\n",
    "print(b)\n",
    "new_list = b\n",
    "print(id(new_list),id(b)) #Both Id are same. I got a problem which is\n",
    "b.append('Pandas')\n",
    "print(new_list)\n",
    "\n",
    "#The result with solving problem\n",
    "new_list = b[:]\n",
    "b.append(67.5)\n",
    "print('After: {}'.format(new_list))\n",
    "print(id(new_list),id(b))"
   ]
  },
  {
   "cell_type": "code",
   "execution_count": 130,
   "metadata": {},
   "outputs": [
    {
     "name": "stdout",
     "output_type": "stream",
     "text": [
      "['Hi,', 'This', 'is', 'Jack', 'Nayem.', 'I', 'am', 'simple', 'learner', 'of', 'python']\n"
     ]
    }
   ],
   "source": [
    "#Make a string to List with spliting word\n",
    "mailBody= 'Hi, This is Jack Nayem. I am simple learner of python'\n",
    "List = mailBody.split()\n",
    "print(List)"
   ]
  },
  {
   "cell_type": "code",
   "execution_count": 134,
   "metadata": {},
   "outputs": [
    {
     "name": "stdout",
     "output_type": "stream",
     "text": [
      "Hi, * This * is * Jack * Nayem. * I * am * simple * learner * of * python\n"
     ]
    }
   ],
   "source": [
    "restructureMailBody = ' * '.join(List)\n",
    "print(restructureMailBody)"
   ]
  },
  {
   "cell_type": "code",
   "execution_count": 135,
   "metadata": {},
   "outputs": [
    {
     "name": "stdout",
     "output_type": "stream",
     "text": [
      "Adding List: ['Python', 'Matlab', 'Deep Learning']\n"
     ]
    }
   ],
   "source": [
    "List1 = ['Python']\n",
    "List2= ['Matlab', 'Deep Learning']\n",
    "\n",
    "addList = List1 + List2\n",
    "print('Adding List: {}'.format(addList))"
   ]
  },
  {
   "cell_type": "code",
   "execution_count": 140,
   "metadata": {},
   "outputs": [
    {
     "name": "stdout",
     "output_type": "stream",
     "text": [
      "[0, 1, 2, 2, 3, 5, 12, 65]\n",
      "Minimum Number is 0\n",
      "Maximum Number is 65\n"
     ]
    }
   ],
   "source": [
    "NumberList = [1,3,2,5,12,65,2,0]\n",
    "print(sorted(NumberList))\n",
    "print('Minimum Number is {}'.format(min(NumberList)))\n",
    "print('Maximum Number is {}'.format(max(NumberList)))"
   ]
  },
  {
   "cell_type": "code",
   "execution_count": 142,
   "metadata": {},
   "outputs": [
    {
     "name": "stdout",
     "output_type": "stream",
     "text": [
      "[2, 4, 6]\n",
      "\n"
     ]
    }
   ],
   "source": [
    "#Inner List\n",
    "List = [[1,3,5],[2,4,6],[1,4,7,34],'Pandas']\n",
    "print(List[1])\n",
    "print()"
   ]
  },
  {
   "cell_type": "code",
   "execution_count": 148,
   "metadata": {},
   "outputs": [
    {
     "name": "stdout",
     "output_type": "stream",
     "text": [
      "Indexing 1D: [22, 4, 6]\n",
      "Indexing 2D: 22\n"
     ]
    }
   ],
   "source": [
    "#Define Matrix\n",
    "List = [[1,9,5],[22,4,6],[1,4,17]]\n",
    "print('Indexing 1D: {}'.format(List[1]))\n",
    "print('Indexing 2D: {}'.format(List[1][0]))"
   ]
  },
  {
   "cell_type": "markdown",
   "metadata": {},
   "source": [
    "# Tuples"
   ]
  },
  {
   "cell_type": "code",
   "execution_count": 149,
   "metadata": {},
   "outputs": [
    {
     "data": {
      "text/plain": [
       "tuple"
      ]
     },
     "execution_count": 149,
     "metadata": {},
     "output_type": "execute_result"
    }
   ],
   "source": [
    "tuples = ()\n",
    "type(tuples)"
   ]
  },
  {
   "cell_type": "code",
   "execution_count": 153,
   "metadata": {},
   "outputs": [
    {
     "name": "stdout",
     "output_type": "stream",
     "text": [
      "('Python', 'Numpy', 23, 'ML', 3.675)\n",
      "Python\n",
      "('Python', 'Numpy', 23, 'ML')\n"
     ]
    }
   ],
   "source": [
    "tuples = ('Python', 'Numpy', 23, 'ML', 3.675)\n",
    "print(tuples)\n",
    "print(tuples[0])\n",
    "print(tuples[0:4])"
   ]
  },
  {
   "cell_type": "code",
   "execution_count": 155,
   "metadata": {},
   "outputs": [],
   "source": [
    "#Show an error is TypeError: 'tuple' object does not support item assignment\n",
    "tuples[0] = 'C++'"
   ]
  },
  {
   "cell_type": "code",
   "execution_count": 157,
   "metadata": {},
   "outputs": [
    {
     "name": "stdout",
     "output_type": "stream",
     "text": [
      "('a', 'n', 3, 5.44)\n"
     ]
    },
    {
     "data": {
      "text/plain": [
       "tuple"
      ]
     },
     "execution_count": 157,
     "metadata": {},
     "output_type": "execute_result"
    }
   ],
   "source": [
    "tuples = 'a','n',3,5.44\n",
    "print(tuples)\n",
    "type(tuples)"
   ]
  },
  {
   "cell_type": "code",
   "execution_count": 159,
   "metadata": {},
   "outputs": [
    {
     "name": "stdout",
     "output_type": "stream",
     "text": [
      "(1, 3, 5, 2, 4, 6, (1, 4, 7, 34), 'Pandas')\n"
     ]
    }
   ],
   "source": [
    "#innder tuples\n",
    "tuples = 1,3,5,2,4,6,(1,4,7,34),'Pandas'\n",
    "print(tuples)"
   ]
  },
  {
   "cell_type": "code",
   "execution_count": 163,
   "metadata": {},
   "outputs": [
    {
     "name": "stdout",
     "output_type": "stream",
     "text": [
      "<class 'list'>\n",
      "<class 'tuple'>\n"
     ]
    }
   ],
   "source": [
    "#Convert Tuple to List and vice versa\n",
    "List = list(tuples)\n",
    "print(type(List))\n",
    "tuples = tuple(List)\n",
    "print(type(tuples))"
   ]
  },
  {
   "cell_type": "markdown",
   "metadata": {},
   "source": [
    "# Sets"
   ]
  },
  {
   "cell_type": "code",
   "execution_count": 27,
   "metadata": {},
   "outputs": [
    {
     "data": {
      "text/plain": [
       "['Jack',\n",
       " 'Nayem',\n",
       " 'Sayem',\n",
       " 'Sajnin',\n",
       " 'Sinthia',\n",
       " 'Saju',\n",
       " 'Jack',\n",
       " 'Sayem',\n",
       " 'Sajnin']"
      ]
     },
     "execution_count": 27,
     "metadata": {},
     "output_type": "execute_result"
    }
   ],
   "source": [
    "name = ['Jack','Nayem','Sayem', 'Sajnin','Sinthia','Saju','Jack','Sayem','Sajnin']\n",
    "name"
   ]
  },
  {
   "cell_type": "code",
   "execution_count": 28,
   "metadata": {},
   "outputs": [
    {
     "data": {
      "text/plain": [
       "{'Jack', 'Nayem', 'Sajnin', 'Saju', 'Sayem', 'Sinthia'}"
      ]
     },
     "execution_count": 28,
     "metadata": {},
     "output_type": "execute_result"
    }
   ],
   "source": [
    "name = set(name)\n",
    "name"
   ]
  },
  {
   "cell_type": "code",
   "execution_count": 29,
   "metadata": {},
   "outputs": [
    {
     "data": {
      "text/plain": [
       "set"
      ]
     },
     "execution_count": 29,
     "metadata": {},
     "output_type": "execute_result"
    }
   ],
   "source": [
    "name2={'Jack','Nayem','Amena','Ratul','Forrul','Nayem'}\n",
    "type(name2)"
   ]
  },
  {
   "cell_type": "code",
   "execution_count": 38,
   "metadata": {},
   "outputs": [
    {
     "name": "stdout",
     "output_type": "stream",
     "text": [
      "{'Sayem', 'Jack', 'Nayem', 'Sajnin', 'Saju', 'Sinthia'}\n",
      "{'Amena', 'Jack', 'Forrul', 'Nayem', 'Ratul'}\n",
      "<class 'set'>\n",
      "<class 'set'>\n",
      "{'Nayem', 'Jack'}\n"
     ]
    }
   ],
   "source": [
    "#Sets Intersaction\n",
    "print(name)\n",
    "print(name2)\n",
    "result = name.intersection(name2)\n",
    "print(z)"
   ]
  },
  {
   "cell_type": "code",
   "execution_count": 40,
   "metadata": {},
   "outputs": [
    {
     "name": "stdout",
     "output_type": "stream",
     "text": [
      "{'Sayem', 'Jack', 'Nayem', 'Sajnin', 'Saju', 'Sinthia'}\n",
      "{'Amena', 'Jack', 'Forrul', 'Nayem', 'Ratul'}\n",
      "{'Sayem', 'Jack', 'Amena', 'Forrul', 'Nayem', 'Sajnin', 'Ratul', 'Saju', 'Sinthia'}\n"
     ]
    }
   ],
   "source": [
    "#Set union\n",
    "print(name)\n",
    "print(name2)\n",
    "result = name.union(name2)\n",
    "print(result)"
   ]
  },
  {
   "cell_type": "code",
   "execution_count": 42,
   "metadata": {},
   "outputs": [
    {
     "name": "stdout",
     "output_type": "stream",
     "text": [
      "{'Sayem', 'Jack', 'Nayem', 'Sajnin', 'Saju', 'Sinthia'}\n",
      "{'Amena', 'Jack', 'Forrul', 'Nayem', 'Ratul'}\n",
      "{'Sajnin', 'Sayem', 'Sinthia', 'Saju'}\n"
     ]
    }
   ],
   "source": [
    "#Set Difference\n",
    "print(name)\n",
    "print(name2)\n",
    "result = name.difference(name2)\n",
    "print(result)"
   ]
  },
  {
   "cell_type": "code",
   "execution_count": 43,
   "metadata": {},
   "outputs": [
    {
     "data": {
      "text/plain": [
       "True"
      ]
     },
     "execution_count": 43,
     "metadata": {},
     "output_type": "execute_result"
    }
   ],
   "source": [
    "'Nayem' in name"
   ]
  },
  {
   "cell_type": "code",
   "execution_count": 44,
   "metadata": {},
   "outputs": [
    {
     "data": {
      "text/plain": [
       "False"
      ]
     },
     "execution_count": 44,
     "metadata": {},
     "output_type": "execute_result"
    }
   ],
   "source": [
    "'Hasina' in name"
   ]
  },
  {
   "cell_type": "code",
   "execution_count": 45,
   "metadata": {},
   "outputs": [
    {
     "name": "stdout",
     "output_type": "stream",
     "text": [
      "{'Sayem', 'Jack', 'Nayem', 'Sajnin', 'Hasina', 'Saju', 'Sinthia'}\n"
     ]
    }
   ],
   "source": [
    "name.add('Hasina')\n",
    "print(name)"
   ]
  },
  {
   "cell_type": "code",
   "execution_count": 46,
   "metadata": {},
   "outputs": [
    {
     "name": "stdout",
     "output_type": "stream",
     "text": [
      "{'Sayem', 'Jack', 'Sajnin', 'Hasina', 'Saju', 'Sinthia'}\n"
     ]
    }
   ],
   "source": [
    "name.remove('Nayem')\n",
    "print(name)"
   ]
  },
  {
   "cell_type": "code",
   "execution_count": 47,
   "metadata": {},
   "outputs": [
    {
     "data": {
      "text/plain": [
       "False"
      ]
     },
     "execution_count": 47,
     "metadata": {},
     "output_type": "execute_result"
    }
   ],
   "source": [
    "#Check is subset\n",
    "name.issubset(name2)"
   ]
  },
  {
   "cell_type": "markdown",
   "metadata": {},
   "source": [
    "# Dictionary"
   ]
  },
  {
   "cell_type": "code",
   "execution_count": 61,
   "metadata": {},
   "outputs": [
    {
     "data": {
      "text/plain": [
       "dict"
      ]
     },
     "execution_count": 61,
     "metadata": {},
     "output_type": "execute_result"
    }
   ],
   "source": [
    "dic = {}\n",
    "type(dic)"
   ]
  },
  {
   "cell_type": "code",
   "execution_count": 62,
   "metadata": {},
   "outputs": [
    {
     "name": "stdout",
     "output_type": "stream",
     "text": [
      "{'Pen': 'Kolom', '2+3': 5, 'Love': 'Vaolobasha', 'Number': 32}\n"
     ]
    }
   ],
   "source": [
    "dic = {\"Pen\":\"Kolom\",'2+3':5,\"Love\":\"Vaolobasha\",'Number':32}\n",
    "print(dic)"
   ]
  },
  {
   "cell_type": "code",
   "execution_count": 63,
   "metadata": {},
   "outputs": [
    {
     "name": "stdout",
     "output_type": "stream",
     "text": [
      "Keys : ['Pen', '2+3', 'Love', 'Number']\n",
      "Values: ['Kolom', 5, 'Vaolobasha', 32]\n"
     ]
    }
   ],
   "source": [
    "#To see keys or values separately\n",
    "print('Keys : {}'.format(list(dic.keys())))\n",
    "print('Values: {}'.format(list(dic.values())))"
   ]
  },
  {
   "cell_type": "code",
   "execution_count": 64,
   "metadata": {},
   "outputs": [
    {
     "name": "stdout",
     "output_type": "stream",
     "text": [
      "Vaolobasha\n",
      "Mysterious Impulse\n",
      "{'Pen': 'Kolom', '2+3': 5, 'Love': 'Mysterious Impulse', 'Number': 32}\n"
     ]
    }
   ],
   "source": [
    "#Changing any value of key\n",
    "print(dic['Love'])\n",
    "dic['Love'] = 'Mysterious Impulse'\n",
    "print(dic['Love'])\n",
    "print(dic)"
   ]
  },
  {
   "cell_type": "code",
   "execution_count": 67,
   "metadata": {},
   "outputs": [
    {
     "name": "stdout",
     "output_type": "stream",
     "text": [
      "Existed\n"
     ]
    }
   ],
   "source": [
    "#Check any value are existed\n",
    "info = 'Love' in dic\n",
    "if info:\n",
    "    print('Existed')\n",
    "else:\n",
    "    print('Not Existed')\n"
   ]
  },
  {
   "cell_type": "code",
   "execution_count": 60,
   "metadata": {},
   "outputs": [
    {
     "name": "stdout",
     "output_type": "stream",
     "text": [
      "{'Pen': 'Kolom', '2+3': 5, 'Love': 'Mysterious Impulse', 'Number': 32, 'Time': '3:40'}\n"
     ]
    }
   ],
   "source": [
    "#Adding to dictionary\n",
    "dic['Time'] = '3:40'\n",
    "print(dic)"
   ]
  },
  {
   "cell_type": "code",
   "execution_count": 68,
   "metadata": {},
   "outputs": [
    {
     "name": "stdout",
     "output_type": "stream",
     "text": [
      "{'Pen': 'Kolom', 'Love': 'Mysterious Impulse', 'Number': 32}\n"
     ]
    }
   ],
   "source": [
    "#Delete any Dcitionary\n",
    "del dic['2+3']\n",
    "print(dic)"
   ]
  },
  {
   "cell_type": "code",
   "execution_count": 72,
   "metadata": {},
   "outputs": [
    {
     "name": "stdout",
     "output_type": "stream",
     "text": [
      "{'Animal': 'Cow', 'Bird': 'Crow'}\n",
      "{'Pen': 'Kolom', 'Love': 'Mysterious Impulse', 'Number': 32, 'Animal': 'Cow', 'Bird': 'Crow'}\n",
      "{'Animal': 'Cow', 'Bird': 'Crow'}\n"
     ]
    }
   ],
   "source": [
    "new_dic = {'Animal':'Cow','Bird':'Crow'}\n",
    "print(new_dic)\n",
    "#Update or add dcitionary\n",
    "dic.update(new_dic)\n",
    "print(dic)\n",
    "print(new_dic)"
   ]
  },
  {
   "cell_type": "code",
   "execution_count": 73,
   "metadata": {},
   "outputs": [
    {
     "name": "stdout",
     "output_type": "stream",
     "text": [
      "Pen  :  Kolom\n",
      "Love  :  Mysterious Impulse\n",
      "Number  :  32\n",
      "Animal  :  Cow\n",
      "Bird  :  Crow\n"
     ]
    }
   ],
   "source": [
    "for key,value in dic.items():\n",
    "    print(key,' : ',value)"
   ]
  },
  {
   "cell_type": "markdown",
   "metadata": {},
   "source": [
    "# Comprehensions"
   ]
  },
  {
   "cell_type": "code",
   "execution_count": 81,
   "metadata": {},
   "outputs": [
    {
     "name": "stdout",
     "output_type": "stream",
     "text": [
      "[1, 4, 9, 16, 25, 36, 49, 64, 81]\n"
     ]
    }
   ],
   "source": [
    "Square = []\n",
    "List = [1,2,3,4,5,6,7,8,9]\n",
    "for x in List:\n",
    "    Square.append(x**2)\n",
    "print(Square)"
   ]
  },
  {
   "cell_type": "code",
   "execution_count": 79,
   "metadata": {},
   "outputs": [
    {
     "name": "stdout",
     "output_type": "stream",
     "text": [
      "[1, 4, 9, 16, 25, 36, 49, 64, 81]\n"
     ]
    }
   ],
   "source": [
    "#Comprehensions are using one for loop\n",
    "Square = [x**2 for x in List]\n",
    "print(Square)"
   ]
  },
  {
   "cell_type": "code",
   "execution_count": 82,
   "metadata": {},
   "outputs": [
    {
     "name": "stdout",
     "output_type": "stream",
     "text": [
      "['A paragraph is a series of related sentences developing a central idea, called the topic.', 'Try to think about paragraphs in terms of thematic unity.']\n"
     ]
    }
   ],
   "source": [
    "paragraph = ['A paragraph is a series of related sentences developing a central idea, called the topic.','Try to think about paragraphs in terms of thematic unity.']\n",
    "print(paragraph)"
   ]
  },
  {
   "cell_type": "code",
   "execution_count": 86,
   "metadata": {},
   "outputs": [
    {
     "name": "stdout",
     "output_type": "stream",
     "text": [
      "['A', 'paragraph', 'is', 'a', 'series', 'of', 'related', 'sentences', 'developing', 'a', 'central', 'idea,', 'called', 'the', 'topic.', 'Try', 'to', 'think', 'about', 'paragraphs', 'in', 'terms', 'of', 'thematic', 'unity.']\n"
     ]
    }
   ],
   "source": [
    "word_list = []\n",
    "for sentence in paragraph:\n",
    "    for word in sentence.split(\" \"):\n",
    "        word_list.append(word)\n",
    "print(word_list)"
   ]
  },
  {
   "cell_type": "code",
   "execution_count": 87,
   "metadata": {},
   "outputs": [
    {
     "name": "stdout",
     "output_type": "stream",
     "text": [
      "['A', 'paragraph', 'is', 'a', 'series', 'of', 'related', 'sentences', 'developing', 'a', 'central', 'idea,', 'called', 'the', 'topic.', 'Try', 'to', 'think', 'about', 'paragraphs', 'in', 'terms', 'of', 'thematic', 'unity.']\n"
     ]
    }
   ],
   "source": [
    "#Comprehensions are using inner loop\n",
    "word_list = [word for sentence in paragraph for word in sentence.split()]\n",
    "print(word_list)"
   ]
  },
  {
   "cell_type": "code",
   "execution_count": 89,
   "metadata": {},
   "outputs": [
    {
     "name": "stdout",
     "output_type": "stream",
     "text": [
      "['A', 'is', 'a', 'of', 'a', 'to', 'in', 'of']\n"
     ]
    }
   ],
   "source": [
    "#Comprehensions are using inner loop and conditonal statement\n",
    "word_list = [word for sentence in paragraph for word in sentence.split() if len(word) < 3]\n",
    "print(word_list)"
   ]
  },
  {
   "cell_type": "code",
   "execution_count": null,
   "metadata": {},
   "outputs": [],
   "source": []
  }
 ],
 "metadata": {
  "kernelspec": {
   "display_name": "Python 3",
   "language": "python",
   "name": "python3"
  },
  "language_info": {
   "codemirror_mode": {
    "name": "ipython",
    "version": 3
   },
   "file_extension": ".py",
   "mimetype": "text/x-python",
   "name": "python",
   "nbconvert_exporter": "python",
   "pygments_lexer": "ipython3",
   "version": "3.6.10"
  }
 },
 "nbformat": 4,
 "nbformat_minor": 4
}
